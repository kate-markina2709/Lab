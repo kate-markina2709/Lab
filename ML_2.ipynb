{
  "nbformat": 4,
  "nbformat_minor": 0,
  "metadata": {
    "colab": {
      "provenance": [],
      "authorship_tag": "ABX9TyO2ukNG8ffzuFejLASg1icl",
      "include_colab_link": true
    },
    "kernelspec": {
      "name": "python3",
      "display_name": "Python 3"
    },
    "language_info": {
      "name": "python"
    }
  },
  "cells": [
    {
      "cell_type": "markdown",
      "metadata": {
        "id": "view-in-github",
        "colab_type": "text"
      },
      "source": [
        "<a href=\"https://colab.research.google.com/github/kate-markina2709/Lab/blob/main/ML_2.ipynb\" target=\"_parent\"><img src=\"https://colab.research.google.com/assets/colab-badge.svg\" alt=\"Open In Colab\"/></a>"
      ]
    },
    {
      "cell_type": "code",
      "source": [
        "import pandas as pd\n",
        "import numpy as np\n",
        "import math\n",
        "import re\n",
        "import nltk\n",
        "import string\n",
        "import matplotlib.pyplot as plt\n",
        "\n",
        "from nltk.tokenize import word_tokenize\n",
        "from nltk.corpus import stopwords\n",
        "from sklearn.feature_extraction.text import CountVectorizer\n",
        "from sklearn.linear_model import LogisticRegression \n",
        "from sklearn.naive_bayes import GaussianNB\n",
        "from sklearn import svm\n",
        "from sklearn.metrics import confusion_matrix\n",
        "from sklearn.model_selection import train_test_split"
      ],
      "metadata": {
        "id": "ZGJJdrkM5J0a"
      },
      "execution_count": null,
      "outputs": []
    },
    {
      "cell_type": "code",
      "source": [
        "nltk.download('stopwords')\n",
        "nltk.download('punkt')\n",
        "nltk.download('wordnet')\n",
        "nltk.download('omw-1.4')"
      ],
      "metadata": {
        "colab": {
          "base_uri": "https://localhost:8080/"
        },
        "id": "YHKjzvMUq8-g",
        "outputId": "6a8e469b-c605-453a-ea12-54013e277bf2"
      },
      "execution_count": null,
      "outputs": [
        {
          "output_type": "stream",
          "name": "stderr",
          "text": [
            "[nltk_data] Downloading package stopwords to /root/nltk_data...\n",
            "[nltk_data]   Unzipping corpora/stopwords.zip.\n",
            "[nltk_data] Downloading package punkt to /root/nltk_data...\n",
            "[nltk_data]   Unzipping tokenizers/punkt.zip.\n",
            "[nltk_data] Downloading package wordnet to /root/nltk_data...\n",
            "[nltk_data] Downloading package omw-1.4 to /root/nltk_data...\n"
          ]
        },
        {
          "output_type": "execute_result",
          "data": {
            "text/plain": [
              "True"
            ]
          },
          "metadata": {},
          "execution_count": 2
        }
      ]
    },
    {
      "cell_type": "markdown",
      "source": [
        "Работа с данными"
      ],
      "metadata": {
        "id": "MejEUcEt58ej"
      }
    },
    {
      "cell_type": "code",
      "source": [
        "def correct_data(df):\n",
        "  class_lab_dict = {}\n",
        "  class_lab_dict['spam'] = int(1)\n",
        "  class_lab_dict['ham'] = int(0)\n",
        "  df['target'] = df.category.replace(class_lab_dict)\n",
        "  return df"
      ],
      "metadata": {
        "id": "mhhZ0dUG9uWi"
      },
      "execution_count": null,
      "outputs": []
    },
    {
      "cell_type": "code",
      "source": [
        "def clean_df(data):\n",
        "    data = re.sub(r'[^\\w\\s]', ' ', data)\n",
        "    sentence_tokens = word_tokenize(data)\n",
        "    sentence_tokens = [tmp.lower() for tmp in sentence_tokens]\n",
        "    stopwords = nltk.corpus.stopwords.words('english')\n",
        "    punctuations = string.punctuation\n",
        "    tokens = [word for word in sentence_tokens if (word not in punctuations) and (word not in stopwords)]\n",
        "    lemmatizer = nltk.stem.WordNetLemmatizer()\n",
        "    tokens = [lemmatizer.lemmatize(word) for word in tokens]\n",
        "    return tokens"
      ],
      "metadata": {
        "id": "JEAnu_jrDJYF"
      },
      "execution_count": null,
      "outputs": []
    },
    {
      "cell_type": "markdown",
      "source": [
        "Анализ слов/пар слов\n",
        "\n",
        "CountVectorizer - токенизирует входные данные и строит словарь известных слов, а затем представляет документ, используя этот словарь"
      ],
      "metadata": {
        "id": "riS54oudynu7"
      }
    },
    {
      "cell_type": "code",
      "source": [
        "def word_analysis(data, ng_range, key):\n",
        "  vectorizer = CountVectorizer(analyzer='word', ngram_range=ng_range)\n",
        "  ngram = vectorizer.fit_transform(data)\n",
        "  word_count = ngram.toarray().sum(axis=0)\n",
        "  dict_ = vectorizer.vocabulary_\n",
        "  if key == 1:\n",
        "    result = pd.DataFrame(sorted([(word_count[i], count) for count, i in dict_.items()], reverse=True)).rename(columns=\n",
        "                                                                                                               {0: \"number of repetitions\", 1: \"word\"})\n",
        "  else:\n",
        "    result = pd.DataFrame(sorted([(word_count[i], count) for count, i in dict_.items()], reverse=True)).rename(columns=\n",
        "                                                                                                               {0: \"number of repetitions\", 1: \"phrase\"})\n",
        "  return result"
      ],
      "metadata": {
        "id": "ogqvtQuwymiR"
      },
      "execution_count": null,
      "outputs": []
    },
    {
      "cell_type": "code",
      "source": [
        "data_filename = \"spam.csv\"\n",
        "df = pd.read_csv(data_filename, sep=',', encoding='latin-1')\n",
        "df = df.rename(columns={'v1':'category', 'v2':'text'})\n",
        "df.drop(labels=['Unnamed: 2', 'Unnamed: 3', 'Unnamed: 4'], axis=1, inplace=True)\n",
        "df = correct_data(df)\n",
        "df['tokens'] = df['text'].apply(clean_df)\n",
        "df.head()"
      ],
      "metadata": {
        "id": "R0y9FPfF6ANc",
        "colab": {
          "base_uri": "https://localhost:8080/",
          "height": 206
        },
        "outputId": "b63d8e2b-e116-4ea7-cbf4-4bec0d4c7f5f"
      },
      "execution_count": null,
      "outputs": [
        {
          "output_type": "execute_result",
          "data": {
            "text/plain": [
              "  category                                               text  target  \\\n",
              "0      ham  Go until jurong point, crazy.. Available only ...       0   \n",
              "1      ham                      Ok lar... Joking wif u oni...       0   \n",
              "2     spam  Free entry in 2 a wkly comp to win FA Cup fina...       1   \n",
              "3      ham  U dun say so early hor... U c already then say...       0   \n",
              "4      ham  Nah I don't think he goes to usf, he lives aro...       0   \n",
              "\n",
              "                                              tokens  \n",
              "0  [go, jurong, point, crazy, available, bugis, n...  \n",
              "1                     [ok, lar, joking, wif, u, oni]  \n",
              "2  [free, entry, 2, wkly, comp, win, fa, cup, fin...  \n",
              "3      [u, dun, say, early, hor, u, c, already, say]  \n",
              "4        [nah, think, go, usf, life, around, though]  "
            ],
            "text/html": [
              "\n",
              "  <div id=\"df-c84fba52-da8e-418a-a24c-5a0d32712e2f\">\n",
              "    <div class=\"colab-df-container\">\n",
              "      <div>\n",
              "<style scoped>\n",
              "    .dataframe tbody tr th:only-of-type {\n",
              "        vertical-align: middle;\n",
              "    }\n",
              "\n",
              "    .dataframe tbody tr th {\n",
              "        vertical-align: top;\n",
              "    }\n",
              "\n",
              "    .dataframe thead th {\n",
              "        text-align: right;\n",
              "    }\n",
              "</style>\n",
              "<table border=\"1\" class=\"dataframe\">\n",
              "  <thead>\n",
              "    <tr style=\"text-align: right;\">\n",
              "      <th></th>\n",
              "      <th>category</th>\n",
              "      <th>text</th>\n",
              "      <th>target</th>\n",
              "      <th>tokens</th>\n",
              "    </tr>\n",
              "  </thead>\n",
              "  <tbody>\n",
              "    <tr>\n",
              "      <th>0</th>\n",
              "      <td>ham</td>\n",
              "      <td>Go until jurong point, crazy.. Available only ...</td>\n",
              "      <td>0</td>\n",
              "      <td>[go, jurong, point, crazy, available, bugis, n...</td>\n",
              "    </tr>\n",
              "    <tr>\n",
              "      <th>1</th>\n",
              "      <td>ham</td>\n",
              "      <td>Ok lar... Joking wif u oni...</td>\n",
              "      <td>0</td>\n",
              "      <td>[ok, lar, joking, wif, u, oni]</td>\n",
              "    </tr>\n",
              "    <tr>\n",
              "      <th>2</th>\n",
              "      <td>spam</td>\n",
              "      <td>Free entry in 2 a wkly comp to win FA Cup fina...</td>\n",
              "      <td>1</td>\n",
              "      <td>[free, entry, 2, wkly, comp, win, fa, cup, fin...</td>\n",
              "    </tr>\n",
              "    <tr>\n",
              "      <th>3</th>\n",
              "      <td>ham</td>\n",
              "      <td>U dun say so early hor... U c already then say...</td>\n",
              "      <td>0</td>\n",
              "      <td>[u, dun, say, early, hor, u, c, already, say]</td>\n",
              "    </tr>\n",
              "    <tr>\n",
              "      <th>4</th>\n",
              "      <td>ham</td>\n",
              "      <td>Nah I don't think he goes to usf, he lives aro...</td>\n",
              "      <td>0</td>\n",
              "      <td>[nah, think, go, usf, life, around, though]</td>\n",
              "    </tr>\n",
              "  </tbody>\n",
              "</table>\n",
              "</div>\n",
              "      <button class=\"colab-df-convert\" onclick=\"convertToInteractive('df-c84fba52-da8e-418a-a24c-5a0d32712e2f')\"\n",
              "              title=\"Convert this dataframe to an interactive table.\"\n",
              "              style=\"display:none;\">\n",
              "        \n",
              "  <svg xmlns=\"http://www.w3.org/2000/svg\" height=\"24px\"viewBox=\"0 0 24 24\"\n",
              "       width=\"24px\">\n",
              "    <path d=\"M0 0h24v24H0V0z\" fill=\"none\"/>\n",
              "    <path d=\"M18.56 5.44l.94 2.06.94-2.06 2.06-.94-2.06-.94-.94-2.06-.94 2.06-2.06.94zm-11 1L8.5 8.5l.94-2.06 2.06-.94-2.06-.94L8.5 2.5l-.94 2.06-2.06.94zm10 10l.94 2.06.94-2.06 2.06-.94-2.06-.94-.94-2.06-.94 2.06-2.06.94z\"/><path d=\"M17.41 7.96l-1.37-1.37c-.4-.4-.92-.59-1.43-.59-.52 0-1.04.2-1.43.59L10.3 9.45l-7.72 7.72c-.78.78-.78 2.05 0 2.83L4 21.41c.39.39.9.59 1.41.59.51 0 1.02-.2 1.41-.59l7.78-7.78 2.81-2.81c.8-.78.8-2.07 0-2.86zM5.41 20L4 18.59l7.72-7.72 1.47 1.35L5.41 20z\"/>\n",
              "  </svg>\n",
              "      </button>\n",
              "      \n",
              "  <style>\n",
              "    .colab-df-container {\n",
              "      display:flex;\n",
              "      flex-wrap:wrap;\n",
              "      gap: 12px;\n",
              "    }\n",
              "\n",
              "    .colab-df-convert {\n",
              "      background-color: #E8F0FE;\n",
              "      border: none;\n",
              "      border-radius: 50%;\n",
              "      cursor: pointer;\n",
              "      display: none;\n",
              "      fill: #1967D2;\n",
              "      height: 32px;\n",
              "      padding: 0 0 0 0;\n",
              "      width: 32px;\n",
              "    }\n",
              "\n",
              "    .colab-df-convert:hover {\n",
              "      background-color: #E2EBFA;\n",
              "      box-shadow: 0px 1px 2px rgba(60, 64, 67, 0.3), 0px 1px 3px 1px rgba(60, 64, 67, 0.15);\n",
              "      fill: #174EA6;\n",
              "    }\n",
              "\n",
              "    [theme=dark] .colab-df-convert {\n",
              "      background-color: #3B4455;\n",
              "      fill: #D2E3FC;\n",
              "    }\n",
              "\n",
              "    [theme=dark] .colab-df-convert:hover {\n",
              "      background-color: #434B5C;\n",
              "      box-shadow: 0px 1px 3px 1px rgba(0, 0, 0, 0.15);\n",
              "      filter: drop-shadow(0px 1px 2px rgba(0, 0, 0, 0.3));\n",
              "      fill: #FFFFFF;\n",
              "    }\n",
              "  </style>\n",
              "\n",
              "      <script>\n",
              "        const buttonEl =\n",
              "          document.querySelector('#df-c84fba52-da8e-418a-a24c-5a0d32712e2f button.colab-df-convert');\n",
              "        buttonEl.style.display =\n",
              "          google.colab.kernel.accessAllowed ? 'block' : 'none';\n",
              "\n",
              "        async function convertToInteractive(key) {\n",
              "          const element = document.querySelector('#df-c84fba52-da8e-418a-a24c-5a0d32712e2f');\n",
              "          const dataTable =\n",
              "            await google.colab.kernel.invokeFunction('convertToInteractive',\n",
              "                                                     [key], {});\n",
              "          if (!dataTable) return;\n",
              "\n",
              "          const docLinkHtml = 'Like what you see? Visit the ' +\n",
              "            '<a target=\"_blank\" href=https://colab.research.google.com/notebooks/data_table.ipynb>data table notebook</a>'\n",
              "            + ' to learn more about interactive tables.';\n",
              "          element.innerHTML = '';\n",
              "          dataTable['output_type'] = 'display_data';\n",
              "          await google.colab.output.renderOutput(dataTable, element);\n",
              "          const docLink = document.createElement('div');\n",
              "          docLink.innerHTML = docLinkHtml;\n",
              "          element.appendChild(docLink);\n",
              "        }\n",
              "      </script>\n",
              "    </div>\n",
              "  </div>\n",
              "  "
            ]
          },
          "metadata": {},
          "execution_count": 6
        }
      ]
    },
    {
      "cell_type": "code",
      "source": [
        "v1 = word_analysis(list(df['text']), (1,1), 1)\n",
        "v1"
      ],
      "metadata": {
        "id": "fdDTQYzyzrCe",
        "colab": {
          "base_uri": "https://localhost:8080/",
          "height": 424
        },
        "outputId": "bba20769-517f-4330-b02d-3d6332c5f973"
      },
      "execution_count": null,
      "outputs": [
        {
          "output_type": "execute_result",
          "data": {
            "text/plain": [
              "      number of repetitions         word\n",
              "0                      2242           to\n",
              "1                      2240          you\n",
              "2                      1328          the\n",
              "3                       979          and\n",
              "4                       898           in\n",
              "...                     ...          ...\n",
              "8667                      1   0125698789\n",
              "8668                      1  01223585236\n",
              "8669                      1         0121\n",
              "8670                      1         0089\n",
              "8671                      1       000pes\n",
              "\n",
              "[8672 rows x 2 columns]"
            ],
            "text/html": [
              "\n",
              "  <div id=\"df-4c70ca19-c548-4318-8a34-ce36b27426a6\">\n",
              "    <div class=\"colab-df-container\">\n",
              "      <div>\n",
              "<style scoped>\n",
              "    .dataframe tbody tr th:only-of-type {\n",
              "        vertical-align: middle;\n",
              "    }\n",
              "\n",
              "    .dataframe tbody tr th {\n",
              "        vertical-align: top;\n",
              "    }\n",
              "\n",
              "    .dataframe thead th {\n",
              "        text-align: right;\n",
              "    }\n",
              "</style>\n",
              "<table border=\"1\" class=\"dataframe\">\n",
              "  <thead>\n",
              "    <tr style=\"text-align: right;\">\n",
              "      <th></th>\n",
              "      <th>number of repetitions</th>\n",
              "      <th>word</th>\n",
              "    </tr>\n",
              "  </thead>\n",
              "  <tbody>\n",
              "    <tr>\n",
              "      <th>0</th>\n",
              "      <td>2242</td>\n",
              "      <td>to</td>\n",
              "    </tr>\n",
              "    <tr>\n",
              "      <th>1</th>\n",
              "      <td>2240</td>\n",
              "      <td>you</td>\n",
              "    </tr>\n",
              "    <tr>\n",
              "      <th>2</th>\n",
              "      <td>1328</td>\n",
              "      <td>the</td>\n",
              "    </tr>\n",
              "    <tr>\n",
              "      <th>3</th>\n",
              "      <td>979</td>\n",
              "      <td>and</td>\n",
              "    </tr>\n",
              "    <tr>\n",
              "      <th>4</th>\n",
              "      <td>898</td>\n",
              "      <td>in</td>\n",
              "    </tr>\n",
              "    <tr>\n",
              "      <th>...</th>\n",
              "      <td>...</td>\n",
              "      <td>...</td>\n",
              "    </tr>\n",
              "    <tr>\n",
              "      <th>8667</th>\n",
              "      <td>1</td>\n",
              "      <td>0125698789</td>\n",
              "    </tr>\n",
              "    <tr>\n",
              "      <th>8668</th>\n",
              "      <td>1</td>\n",
              "      <td>01223585236</td>\n",
              "    </tr>\n",
              "    <tr>\n",
              "      <th>8669</th>\n",
              "      <td>1</td>\n",
              "      <td>0121</td>\n",
              "    </tr>\n",
              "    <tr>\n",
              "      <th>8670</th>\n",
              "      <td>1</td>\n",
              "      <td>0089</td>\n",
              "    </tr>\n",
              "    <tr>\n",
              "      <th>8671</th>\n",
              "      <td>1</td>\n",
              "      <td>000pes</td>\n",
              "    </tr>\n",
              "  </tbody>\n",
              "</table>\n",
              "<p>8672 rows × 2 columns</p>\n",
              "</div>\n",
              "      <button class=\"colab-df-convert\" onclick=\"convertToInteractive('df-4c70ca19-c548-4318-8a34-ce36b27426a6')\"\n",
              "              title=\"Convert this dataframe to an interactive table.\"\n",
              "              style=\"display:none;\">\n",
              "        \n",
              "  <svg xmlns=\"http://www.w3.org/2000/svg\" height=\"24px\"viewBox=\"0 0 24 24\"\n",
              "       width=\"24px\">\n",
              "    <path d=\"M0 0h24v24H0V0z\" fill=\"none\"/>\n",
              "    <path d=\"M18.56 5.44l.94 2.06.94-2.06 2.06-.94-2.06-.94-.94-2.06-.94 2.06-2.06.94zm-11 1L8.5 8.5l.94-2.06 2.06-.94-2.06-.94L8.5 2.5l-.94 2.06-2.06.94zm10 10l.94 2.06.94-2.06 2.06-.94-2.06-.94-.94-2.06-.94 2.06-2.06.94z\"/><path d=\"M17.41 7.96l-1.37-1.37c-.4-.4-.92-.59-1.43-.59-.52 0-1.04.2-1.43.59L10.3 9.45l-7.72 7.72c-.78.78-.78 2.05 0 2.83L4 21.41c.39.39.9.59 1.41.59.51 0 1.02-.2 1.41-.59l7.78-7.78 2.81-2.81c.8-.78.8-2.07 0-2.86zM5.41 20L4 18.59l7.72-7.72 1.47 1.35L5.41 20z\"/>\n",
              "  </svg>\n",
              "      </button>\n",
              "      \n",
              "  <style>\n",
              "    .colab-df-container {\n",
              "      display:flex;\n",
              "      flex-wrap:wrap;\n",
              "      gap: 12px;\n",
              "    }\n",
              "\n",
              "    .colab-df-convert {\n",
              "      background-color: #E8F0FE;\n",
              "      border: none;\n",
              "      border-radius: 50%;\n",
              "      cursor: pointer;\n",
              "      display: none;\n",
              "      fill: #1967D2;\n",
              "      height: 32px;\n",
              "      padding: 0 0 0 0;\n",
              "      width: 32px;\n",
              "    }\n",
              "\n",
              "    .colab-df-convert:hover {\n",
              "      background-color: #E2EBFA;\n",
              "      box-shadow: 0px 1px 2px rgba(60, 64, 67, 0.3), 0px 1px 3px 1px rgba(60, 64, 67, 0.15);\n",
              "      fill: #174EA6;\n",
              "    }\n",
              "\n",
              "    [theme=dark] .colab-df-convert {\n",
              "      background-color: #3B4455;\n",
              "      fill: #D2E3FC;\n",
              "    }\n",
              "\n",
              "    [theme=dark] .colab-df-convert:hover {\n",
              "      background-color: #434B5C;\n",
              "      box-shadow: 0px 1px 3px 1px rgba(0, 0, 0, 0.15);\n",
              "      filter: drop-shadow(0px 1px 2px rgba(0, 0, 0, 0.3));\n",
              "      fill: #FFFFFF;\n",
              "    }\n",
              "  </style>\n",
              "\n",
              "      <script>\n",
              "        const buttonEl =\n",
              "          document.querySelector('#df-4c70ca19-c548-4318-8a34-ce36b27426a6 button.colab-df-convert');\n",
              "        buttonEl.style.display =\n",
              "          google.colab.kernel.accessAllowed ? 'block' : 'none';\n",
              "\n",
              "        async function convertToInteractive(key) {\n",
              "          const element = document.querySelector('#df-4c70ca19-c548-4318-8a34-ce36b27426a6');\n",
              "          const dataTable =\n",
              "            await google.colab.kernel.invokeFunction('convertToInteractive',\n",
              "                                                     [key], {});\n",
              "          if (!dataTable) return;\n",
              "\n",
              "          const docLinkHtml = 'Like what you see? Visit the ' +\n",
              "            '<a target=\"_blank\" href=https://colab.research.google.com/notebooks/data_table.ipynb>data table notebook</a>'\n",
              "            + ' to learn more about interactive tables.';\n",
              "          element.innerHTML = '';\n",
              "          dataTable['output_type'] = 'display_data';\n",
              "          await google.colab.output.renderOutput(dataTable, element);\n",
              "          const docLink = document.createElement('div');\n",
              "          docLink.innerHTML = docLinkHtml;\n",
              "          element.appendChild(docLink);\n",
              "        }\n",
              "      </script>\n",
              "    </div>\n",
              "  </div>\n",
              "  "
            ]
          },
          "metadata": {},
          "execution_count": 7
        }
      ]
    },
    {
      "cell_type": "code",
      "source": [
        "v2 = word_analysis(list(df['text']), (2,2), 0)\n",
        "v2"
      ],
      "metadata": {
        "id": "0lqG7FEnzz28",
        "colab": {
          "base_uri": "https://localhost:8080/",
          "height": 424
        },
        "outputId": "85d18e31-8c20-41b8-d38d-f8b24ba7892a"
      },
      "execution_count": null,
      "outputs": [
        {
          "output_type": "execute_result",
          "data": {
            "text/plain": [
              "       number of repetitions        phrase\n",
              "0                        276         lt gt\n",
              "1                        180       are you\n",
              "2                        129       you are\n",
              "3                        118      you have\n",
              "4                        109        do you\n",
              "...                      ...           ...\n",
              "41649                      1  0121 2025050\n",
              "41650                      1       0089 my\n",
              "41651                      1     000pes so\n",
              "41652                      1     000 price\n",
              "41653                      1         00 in\n",
              "\n",
              "[41654 rows x 2 columns]"
            ],
            "text/html": [
              "\n",
              "  <div id=\"df-ef735adc-3145-4003-a6cd-c43374763999\">\n",
              "    <div class=\"colab-df-container\">\n",
              "      <div>\n",
              "<style scoped>\n",
              "    .dataframe tbody tr th:only-of-type {\n",
              "        vertical-align: middle;\n",
              "    }\n",
              "\n",
              "    .dataframe tbody tr th {\n",
              "        vertical-align: top;\n",
              "    }\n",
              "\n",
              "    .dataframe thead th {\n",
              "        text-align: right;\n",
              "    }\n",
              "</style>\n",
              "<table border=\"1\" class=\"dataframe\">\n",
              "  <thead>\n",
              "    <tr style=\"text-align: right;\">\n",
              "      <th></th>\n",
              "      <th>number of repetitions</th>\n",
              "      <th>phrase</th>\n",
              "    </tr>\n",
              "  </thead>\n",
              "  <tbody>\n",
              "    <tr>\n",
              "      <th>0</th>\n",
              "      <td>276</td>\n",
              "      <td>lt gt</td>\n",
              "    </tr>\n",
              "    <tr>\n",
              "      <th>1</th>\n",
              "      <td>180</td>\n",
              "      <td>are you</td>\n",
              "    </tr>\n",
              "    <tr>\n",
              "      <th>2</th>\n",
              "      <td>129</td>\n",
              "      <td>you are</td>\n",
              "    </tr>\n",
              "    <tr>\n",
              "      <th>3</th>\n",
              "      <td>118</td>\n",
              "      <td>you have</td>\n",
              "    </tr>\n",
              "    <tr>\n",
              "      <th>4</th>\n",
              "      <td>109</td>\n",
              "      <td>do you</td>\n",
              "    </tr>\n",
              "    <tr>\n",
              "      <th>...</th>\n",
              "      <td>...</td>\n",
              "      <td>...</td>\n",
              "    </tr>\n",
              "    <tr>\n",
              "      <th>41649</th>\n",
              "      <td>1</td>\n",
              "      <td>0121 2025050</td>\n",
              "    </tr>\n",
              "    <tr>\n",
              "      <th>41650</th>\n",
              "      <td>1</td>\n",
              "      <td>0089 my</td>\n",
              "    </tr>\n",
              "    <tr>\n",
              "      <th>41651</th>\n",
              "      <td>1</td>\n",
              "      <td>000pes so</td>\n",
              "    </tr>\n",
              "    <tr>\n",
              "      <th>41652</th>\n",
              "      <td>1</td>\n",
              "      <td>000 price</td>\n",
              "    </tr>\n",
              "    <tr>\n",
              "      <th>41653</th>\n",
              "      <td>1</td>\n",
              "      <td>00 in</td>\n",
              "    </tr>\n",
              "  </tbody>\n",
              "</table>\n",
              "<p>41654 rows × 2 columns</p>\n",
              "</div>\n",
              "      <button class=\"colab-df-convert\" onclick=\"convertToInteractive('df-ef735adc-3145-4003-a6cd-c43374763999')\"\n",
              "              title=\"Convert this dataframe to an interactive table.\"\n",
              "              style=\"display:none;\">\n",
              "        \n",
              "  <svg xmlns=\"http://www.w3.org/2000/svg\" height=\"24px\"viewBox=\"0 0 24 24\"\n",
              "       width=\"24px\">\n",
              "    <path d=\"M0 0h24v24H0V0z\" fill=\"none\"/>\n",
              "    <path d=\"M18.56 5.44l.94 2.06.94-2.06 2.06-.94-2.06-.94-.94-2.06-.94 2.06-2.06.94zm-11 1L8.5 8.5l.94-2.06 2.06-.94-2.06-.94L8.5 2.5l-.94 2.06-2.06.94zm10 10l.94 2.06.94-2.06 2.06-.94-2.06-.94-.94-2.06-.94 2.06-2.06.94z\"/><path d=\"M17.41 7.96l-1.37-1.37c-.4-.4-.92-.59-1.43-.59-.52 0-1.04.2-1.43.59L10.3 9.45l-7.72 7.72c-.78.78-.78 2.05 0 2.83L4 21.41c.39.39.9.59 1.41.59.51 0 1.02-.2 1.41-.59l7.78-7.78 2.81-2.81c.8-.78.8-2.07 0-2.86zM5.41 20L4 18.59l7.72-7.72 1.47 1.35L5.41 20z\"/>\n",
              "  </svg>\n",
              "      </button>\n",
              "      \n",
              "  <style>\n",
              "    .colab-df-container {\n",
              "      display:flex;\n",
              "      flex-wrap:wrap;\n",
              "      gap: 12px;\n",
              "    }\n",
              "\n",
              "    .colab-df-convert {\n",
              "      background-color: #E8F0FE;\n",
              "      border: none;\n",
              "      border-radius: 50%;\n",
              "      cursor: pointer;\n",
              "      display: none;\n",
              "      fill: #1967D2;\n",
              "      height: 32px;\n",
              "      padding: 0 0 0 0;\n",
              "      width: 32px;\n",
              "    }\n",
              "\n",
              "    .colab-df-convert:hover {\n",
              "      background-color: #E2EBFA;\n",
              "      box-shadow: 0px 1px 2px rgba(60, 64, 67, 0.3), 0px 1px 3px 1px rgba(60, 64, 67, 0.15);\n",
              "      fill: #174EA6;\n",
              "    }\n",
              "\n",
              "    [theme=dark] .colab-df-convert {\n",
              "      background-color: #3B4455;\n",
              "      fill: #D2E3FC;\n",
              "    }\n",
              "\n",
              "    [theme=dark] .colab-df-convert:hover {\n",
              "      background-color: #434B5C;\n",
              "      box-shadow: 0px 1px 3px 1px rgba(0, 0, 0, 0.15);\n",
              "      filter: drop-shadow(0px 1px 2px rgba(0, 0, 0, 0.3));\n",
              "      fill: #FFFFFF;\n",
              "    }\n",
              "  </style>\n",
              "\n",
              "      <script>\n",
              "        const buttonEl =\n",
              "          document.querySelector('#df-ef735adc-3145-4003-a6cd-c43374763999 button.colab-df-convert');\n",
              "        buttonEl.style.display =\n",
              "          google.colab.kernel.accessAllowed ? 'block' : 'none';\n",
              "\n",
              "        async function convertToInteractive(key) {\n",
              "          const element = document.querySelector('#df-ef735adc-3145-4003-a6cd-c43374763999');\n",
              "          const dataTable =\n",
              "            await google.colab.kernel.invokeFunction('convertToInteractive',\n",
              "                                                     [key], {});\n",
              "          if (!dataTable) return;\n",
              "\n",
              "          const docLinkHtml = 'Like what you see? Visit the ' +\n",
              "            '<a target=\"_blank\" href=https://colab.research.google.com/notebooks/data_table.ipynb>data table notebook</a>'\n",
              "            + ' to learn more about interactive tables.';\n",
              "          element.innerHTML = '';\n",
              "          dataTable['output_type'] = 'display_data';\n",
              "          await google.colab.output.renderOutput(dataTable, element);\n",
              "          const docLink = document.createElement('div');\n",
              "          docLink.innerHTML = docLinkHtml;\n",
              "          element.appendChild(docLink);\n",
              "        }\n",
              "      </script>\n",
              "    </div>\n",
              "  </div>\n",
              "  "
            ]
          },
          "metadata": {},
          "execution_count": 8
        }
      ]
    },
    {
      "cell_type": "markdown",
      "source": [
        "Деление на пары слов каждого предложения"
      ],
      "metadata": {
        "id": "OhKMaAMjmEG9"
      }
    },
    {
      "cell_type": "code",
      "source": [
        "def to_pair(data_val):\n",
        "    pair_mas = []\n",
        "    for i in range(0, len(data_val)-1):\n",
        "        tmp = data_val[i]+data_val[i + 1]\n",
        "        pair_mas.append(tmp)\n",
        "    return pair_mas"
      ],
      "metadata": {
        "id": "As8wUgvrmIGx"
      },
      "execution_count": null,
      "outputs": []
    },
    {
      "cell_type": "markdown",
      "source": [
        "Если дальше надо работать с парами, а не просто со словами:"
      ],
      "metadata": {
        "id": "EbhnC4UXoJOx"
      }
    },
    {
      "cell_type": "code",
      "source": [
        "df['tokens'] = df['tokens'].apply(to_pair)"
      ],
      "metadata": {
        "id": "zHt6QSwEm0ES"
      },
      "execution_count": null,
      "outputs": []
    },
    {
      "cell_type": "markdown",
      "source": [
        "TF-IDF"
      ],
      "metadata": {
        "id": "gyKIkhvq4H_o"
      }
    },
    {
      "cell_type": "code",
      "source": [
        "def compute_TF(text):\n",
        "  dict_text = dict.fromkeys(text, 0)\n",
        "  for word in dict_text:\n",
        "    val = text.count(word)/len(text)\n",
        "    dict_text[word] = val\n",
        "  return dict_text"
      ],
      "metadata": {
        "id": "arsBWCV9VaEV"
      },
      "execution_count": null,
      "outputs": []
    },
    {
      "cell_type": "code",
      "source": [
        "def compute_IDF():\n",
        "  dict_=[]\n",
        "  text_val = dict.fromkeys(list(range(0, df.shape[0])), 0)\n",
        "  for i in range(0, df.shape[0]):\n",
        "    dict_ = set(dict_).union(set(df['tokens'].loc[i]))\n",
        "    text_val[i] = df['tokens'].loc[i]\n",
        "  all_words = dict.fromkeys(dict_, 0)\n",
        "  for val in all_words:\n",
        "    n = 0\n",
        "    for i in text_val:\n",
        "      if val in text_val[i]:\n",
        "        n = n + 1\n",
        "    all_words[val] = math.log(df.shape[0] / float(n))\n",
        "  return all_words"
      ],
      "metadata": {
        "id": "HSYJMWNPiu8t"
      },
      "execution_count": null,
      "outputs": []
    },
    {
      "cell_type": "code",
      "source": [
        "def compute_TF_IDF(sentense):\n",
        "  tf_val = compute_TF(sentense)\n",
        "  vect = []\n",
        "  for word in tf_val:\n",
        "    vect.append(tf_val[word] * idf[word])\n",
        "  return vect"
      ],
      "metadata": {
        "id": "Vp6FoBjKiwyF"
      },
      "execution_count": null,
      "outputs": []
    },
    {
      "cell_type": "code",
      "source": [
        "idf = compute_IDF()\n",
        "#idf"
      ],
      "metadata": {
        "id": "wI_NpmCLolHF"
      },
      "execution_count": null,
      "outputs": []
    },
    {
      "cell_type": "code",
      "source": [
        "df['TF_IDF'] = df['tokens'].apply(compute_TF_IDF)"
      ],
      "metadata": {
        "id": "eI05ar6w0wo5"
      },
      "execution_count": null,
      "outputs": []
    },
    {
      "cell_type": "code",
      "source": [
        "# check\n",
        "df.head()"
      ],
      "metadata": {
        "id": "r6JypbweGwf0",
        "colab": {
          "base_uri": "https://localhost:8080/",
          "height": 337
        },
        "outputId": "77daf5d7-ca3d-436f-bd89-0fd7e5ca1cdb"
      },
      "execution_count": null,
      "outputs": [
        {
          "output_type": "execute_result",
          "data": {
            "text/plain": [
              "  category                                               text  target  \\\n",
              "0      ham  Go until jurong point, crazy.. Available only ...       0   \n",
              "1      ham                      Ok lar... Joking wif u oni...       0   \n",
              "2     spam  Free entry in 2 a wkly comp to win FA Cup fina...       1   \n",
              "3      ham  U dun say so early hor... U c already then say...       0   \n",
              "4      ham  Nah I don't think he goes to usf, he lives aro...       0   \n",
              "\n",
              "                                              tokens  \\\n",
              "0  [gojurong, jurongpoint, pointcrazy, crazyavail...   \n",
              "1          [oklar, larjoking, jokingwif, wifu, uoni]   \n",
              "2  [freeentry, entry2, 2wkly, wklycomp, compwin, ...   \n",
              "3  [udun, dunsay, sayearly, earlyhor, horu, uc, c...   \n",
              "4  [nahthink, thinkgo, gousf, usflife, lifearound...   \n",
              "\n",
              "                                              TF_IDF  \n",
              "0  [0.5750339556599797, 0.5750339556599797, 0.575...  \n",
              "1  [1.4478429947559612, 1.7251018669799394, 1.725...  \n",
              "2  [0.2438716921941631, 0.2494355002201849, 0.330...  \n",
              "3  [0.767575335638962, 0.9915452692924689, 1.0781...  \n",
              "4  [1.4375848891499494, 1.2544828410385978, 1.437...  "
            ],
            "text/html": [
              "\n",
              "  <div id=\"df-5865dd23-6348-400a-a7f1-eb6d28a6b0a5\">\n",
              "    <div class=\"colab-df-container\">\n",
              "      <div>\n",
              "<style scoped>\n",
              "    .dataframe tbody tr th:only-of-type {\n",
              "        vertical-align: middle;\n",
              "    }\n",
              "\n",
              "    .dataframe tbody tr th {\n",
              "        vertical-align: top;\n",
              "    }\n",
              "\n",
              "    .dataframe thead th {\n",
              "        text-align: right;\n",
              "    }\n",
              "</style>\n",
              "<table border=\"1\" class=\"dataframe\">\n",
              "  <thead>\n",
              "    <tr style=\"text-align: right;\">\n",
              "      <th></th>\n",
              "      <th>category</th>\n",
              "      <th>text</th>\n",
              "      <th>target</th>\n",
              "      <th>tokens</th>\n",
              "      <th>TF_IDF</th>\n",
              "    </tr>\n",
              "  </thead>\n",
              "  <tbody>\n",
              "    <tr>\n",
              "      <th>0</th>\n",
              "      <td>ham</td>\n",
              "      <td>Go until jurong point, crazy.. Available only ...</td>\n",
              "      <td>0</td>\n",
              "      <td>[gojurong, jurongpoint, pointcrazy, crazyavail...</td>\n",
              "      <td>[0.5750339556599797, 0.5750339556599797, 0.575...</td>\n",
              "    </tr>\n",
              "    <tr>\n",
              "      <th>1</th>\n",
              "      <td>ham</td>\n",
              "      <td>Ok lar... Joking wif u oni...</td>\n",
              "      <td>0</td>\n",
              "      <td>[oklar, larjoking, jokingwif, wifu, uoni]</td>\n",
              "      <td>[1.4478429947559612, 1.7251018669799394, 1.725...</td>\n",
              "    </tr>\n",
              "    <tr>\n",
              "      <th>2</th>\n",
              "      <td>spam</td>\n",
              "      <td>Free entry in 2 a wkly comp to win FA Cup fina...</td>\n",
              "      <td>1</td>\n",
              "      <td>[freeentry, entry2, 2wkly, wklycomp, compwin, ...</td>\n",
              "      <td>[0.2438716921941631, 0.2494355002201849, 0.330...</td>\n",
              "    </tr>\n",
              "    <tr>\n",
              "      <th>3</th>\n",
              "      <td>ham</td>\n",
              "      <td>U dun say so early hor... U c already then say...</td>\n",
              "      <td>0</td>\n",
              "      <td>[udun, dunsay, sayearly, earlyhor, horu, uc, c...</td>\n",
              "      <td>[0.767575335638962, 0.9915452692924689, 1.0781...</td>\n",
              "    </tr>\n",
              "    <tr>\n",
              "      <th>4</th>\n",
              "      <td>ham</td>\n",
              "      <td>Nah I don't think he goes to usf, he lives aro...</td>\n",
              "      <td>0</td>\n",
              "      <td>[nahthink, thinkgo, gousf, usflife, lifearound...</td>\n",
              "      <td>[1.4375848891499494, 1.2544828410385978, 1.437...</td>\n",
              "    </tr>\n",
              "  </tbody>\n",
              "</table>\n",
              "</div>\n",
              "      <button class=\"colab-df-convert\" onclick=\"convertToInteractive('df-5865dd23-6348-400a-a7f1-eb6d28a6b0a5')\"\n",
              "              title=\"Convert this dataframe to an interactive table.\"\n",
              "              style=\"display:none;\">\n",
              "        \n",
              "  <svg xmlns=\"http://www.w3.org/2000/svg\" height=\"24px\"viewBox=\"0 0 24 24\"\n",
              "       width=\"24px\">\n",
              "    <path d=\"M0 0h24v24H0V0z\" fill=\"none\"/>\n",
              "    <path d=\"M18.56 5.44l.94 2.06.94-2.06 2.06-.94-2.06-.94-.94-2.06-.94 2.06-2.06.94zm-11 1L8.5 8.5l.94-2.06 2.06-.94-2.06-.94L8.5 2.5l-.94 2.06-2.06.94zm10 10l.94 2.06.94-2.06 2.06-.94-2.06-.94-.94-2.06-.94 2.06-2.06.94z\"/><path d=\"M17.41 7.96l-1.37-1.37c-.4-.4-.92-.59-1.43-.59-.52 0-1.04.2-1.43.59L10.3 9.45l-7.72 7.72c-.78.78-.78 2.05 0 2.83L4 21.41c.39.39.9.59 1.41.59.51 0 1.02-.2 1.41-.59l7.78-7.78 2.81-2.81c.8-.78.8-2.07 0-2.86zM5.41 20L4 18.59l7.72-7.72 1.47 1.35L5.41 20z\"/>\n",
              "  </svg>\n",
              "      </button>\n",
              "      \n",
              "  <style>\n",
              "    .colab-df-container {\n",
              "      display:flex;\n",
              "      flex-wrap:wrap;\n",
              "      gap: 12px;\n",
              "    }\n",
              "\n",
              "    .colab-df-convert {\n",
              "      background-color: #E8F0FE;\n",
              "      border: none;\n",
              "      border-radius: 50%;\n",
              "      cursor: pointer;\n",
              "      display: none;\n",
              "      fill: #1967D2;\n",
              "      height: 32px;\n",
              "      padding: 0 0 0 0;\n",
              "      width: 32px;\n",
              "    }\n",
              "\n",
              "    .colab-df-convert:hover {\n",
              "      background-color: #E2EBFA;\n",
              "      box-shadow: 0px 1px 2px rgba(60, 64, 67, 0.3), 0px 1px 3px 1px rgba(60, 64, 67, 0.15);\n",
              "      fill: #174EA6;\n",
              "    }\n",
              "\n",
              "    [theme=dark] .colab-df-convert {\n",
              "      background-color: #3B4455;\n",
              "      fill: #D2E3FC;\n",
              "    }\n",
              "\n",
              "    [theme=dark] .colab-df-convert:hover {\n",
              "      background-color: #434B5C;\n",
              "      box-shadow: 0px 1px 3px 1px rgba(0, 0, 0, 0.15);\n",
              "      filter: drop-shadow(0px 1px 2px rgba(0, 0, 0, 0.3));\n",
              "      fill: #FFFFFF;\n",
              "    }\n",
              "  </style>\n",
              "\n",
              "      <script>\n",
              "        const buttonEl =\n",
              "          document.querySelector('#df-5865dd23-6348-400a-a7f1-eb6d28a6b0a5 button.colab-df-convert');\n",
              "        buttonEl.style.display =\n",
              "          google.colab.kernel.accessAllowed ? 'block' : 'none';\n",
              "\n",
              "        async function convertToInteractive(key) {\n",
              "          const element = document.querySelector('#df-5865dd23-6348-400a-a7f1-eb6d28a6b0a5');\n",
              "          const dataTable =\n",
              "            await google.colab.kernel.invokeFunction('convertToInteractive',\n",
              "                                                     [key], {});\n",
              "          if (!dataTable) return;\n",
              "\n",
              "          const docLinkHtml = 'Like what you see? Visit the ' +\n",
              "            '<a target=\"_blank\" href=https://colab.research.google.com/notebooks/data_table.ipynb>data table notebook</a>'\n",
              "            + ' to learn more about interactive tables.';\n",
              "          element.innerHTML = '';\n",
              "          dataTable['output_type'] = 'display_data';\n",
              "          await google.colab.output.renderOutput(dataTable, element);\n",
              "          const docLink = document.createElement('div');\n",
              "          docLink.innerHTML = docLinkHtml;\n",
              "          element.appendChild(docLink);\n",
              "        }\n",
              "      </script>\n",
              "    </div>\n",
              "  </div>\n",
              "  "
            ]
          },
          "metadata": {},
          "execution_count": 16
        }
      ]
    },
    {
      "cell_type": "markdown",
      "source": [
        "Деление на обучающие и тестовые (соблюдая соотношение в каждом из классов) + преобразование данных из листа в матрицу (TF-IDF для каждого слова в предложении)\n",
        "\n",
        "iloc - условно, конкретная строка словаря превращается в массив"
      ],
      "metadata": {
        "id": "cvn0Qriv5SxX"
      }
    },
    {
      "cell_type": "code",
      "source": [
        "def correct_val():\n",
        "    mat = np.zeros((df.shape[0], max(df['TF_IDF'].apply(len))))\n",
        "    for i in range(0, df.shape[0]):\n",
        "        tfidf_val = df['TF_IDF'].iloc[i]\n",
        "        for j in range(0, len(tfidf_val)):\n",
        "            mat[i][j] = tfidf_val[j]\n",
        "    return pd.DataFrame(mat)\n",
        "\n",
        "data_correct = correct_val()"
      ],
      "metadata": {
        "id": "KuHZ4_BtItDm"
      },
      "execution_count": null,
      "outputs": []
    },
    {
      "cell_type": "code",
      "source": [
        "X_train, X_test, Y_train, Y_test = train_test_split(data_correct, df.target.values, test_size=0.2, random_state=100, stratify=df.target.values)"
      ],
      "metadata": {
        "id": "1cARUlz24oX3"
      },
      "execution_count": null,
      "outputs": []
    },
    {
      "cell_type": "markdown",
      "source": [
        "*Оценка классификатора - матрица ошибок* ([TN FN] [FP TP])\n",
        "\n",
        "*Метрики - Precision и Recall*\n",
        "\n",
        "![image.png](data:image/png;base64,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)"
      ],
      "metadata": {
        "id": "bhPwhO8p53mQ"
      }
    },
    {
      "cell_type": "markdown",
      "source": [
        "precision = TP/(FP+TP)\n",
        "\n",
        "recall = TP/(TP+FN)"
      ],
      "metadata": {
        "id": "leCWi1kL-hij"
      }
    },
    {
      "cell_type": "code",
      "source": [
        "def TP(y_true,y_predict):\n",
        "    return np.sum((y_true==1)&(y_predict==1))\n",
        "\n",
        "def FP(y_true,y_predict):\n",
        "    return np.sum((y_true==0)&(y_predict==1))\n",
        " \n",
        "def FN(y_true,y_predict):\n",
        "    return np.sum((y_true==1)&(y_predict==0))"
      ],
      "metadata": {
        "id": "0d5nhwQM-gvg"
      },
      "execution_count": null,
      "outputs": []
    },
    {
      "cell_type": "markdown",
      "source": [
        "Обучение и тестирование (логистическая регрессия)"
      ],
      "metadata": {
        "id": "ufQil67Z4zs8"
      }
    },
    {
      "cell_type": "code",
      "source": [
        "logreg_clf = LogisticRegression(random_state=15)\n",
        "logreg_clf.fit(X_train, Y_train)\n",
        "logreg_predict = logreg_clf.predict(X_test)\n",
        "logreg_matrix = confusion_matrix(Y_test, logreg_predict)"
      ],
      "metadata": {
        "id": "K8klLjHP40VF"
      },
      "execution_count": null,
      "outputs": []
    },
    {
      "cell_type": "code",
      "source": [
        "logreg_matrix"
      ],
      "metadata": {
        "colab": {
          "base_uri": "https://localhost:8080/"
        },
        "id": "fZOC701j92lv",
        "outputId": "0400e3fc-7052-4845-b597-52131e9df917"
      },
      "execution_count": null,
      "outputs": [
        {
          "output_type": "execute_result",
          "data": {
            "text/plain": [
              "array([[913,  53],\n",
              "       [ 75,  74]])"
            ]
          },
          "metadata": {},
          "execution_count": 21
        }
      ]
    },
    {
      "cell_type": "code",
      "source": [
        "TP_val_lr = TP(Y_test, logreg_predict)\n",
        "FP_val_lr = FP(Y_test, logreg_predict)\n",
        "FN_val_lr = FN(Y_test, logreg_predict)"
      ],
      "metadata": {
        "id": "9NluUurm_IF7"
      },
      "execution_count": null,
      "outputs": []
    },
    {
      "cell_type": "code",
      "source": [
        "precision_lr = TP_val_lr / (FP_val_lr + TP_val_lr)\n",
        "recall_lr = TP_val_lr / (TP_val_lr + FN_val_lr)\n",
        "print(\"Precision val: \", precision_lr)\n",
        "print(\"Recall val: \", recall_lr)"
      ],
      "metadata": {
        "colab": {
          "base_uri": "https://localhost:8080/"
        },
        "id": "r7wPF3PF_fZc",
        "outputId": "9ea25819-b719-4c0c-aeb3-92cf1ed2ffaa"
      },
      "execution_count": null,
      "outputs": [
        {
          "output_type": "stream",
          "name": "stdout",
          "text": [
            "Precision val:  0.5826771653543307\n",
            "Recall val:  0.4966442953020134\n"
          ]
        }
      ]
    },
    {
      "cell_type": "markdown",
      "source": [
        "Обучение и тестирование (наивный Байес)"
      ],
      "metadata": {
        "id": "My6Nv1yt7QIu"
      }
    },
    {
      "cell_type": "code",
      "source": [
        "naivbay_clf = GaussianNB()\n",
        "naivbay_clf.fit(X_train, Y_train)\n",
        "naivbay_predict = naivbay_clf.predict(X_test)\n",
        "naivbay_matrix = confusion_matrix(Y_test, naivbay_predict)"
      ],
      "metadata": {
        "id": "NMbWhgoG7TYw"
      },
      "execution_count": null,
      "outputs": []
    },
    {
      "cell_type": "code",
      "source": [
        "naivbay_matrix"
      ],
      "metadata": {
        "colab": {
          "base_uri": "https://localhost:8080/"
        },
        "id": "q8xzifqn97oe",
        "outputId": "6bfb0aa1-97b2-4de2-a0b7-90788943551d"
      },
      "execution_count": null,
      "outputs": [
        {
          "output_type": "execute_result",
          "data": {
            "text/plain": [
              "array([[  9, 957],\n",
              "       [  1, 148]])"
            ]
          },
          "metadata": {},
          "execution_count": 25
        }
      ]
    },
    {
      "cell_type": "code",
      "source": [
        "TP_val_nb = TP(Y_test, naivbay_predict)\n",
        "FP_val_nb = FP(Y_test, naivbay_predict)\n",
        "FN_val_nb = FN(Y_test, naivbay_predict)"
      ],
      "metadata": {
        "id": "zC0gU9MR_7XZ"
      },
      "execution_count": null,
      "outputs": []
    },
    {
      "cell_type": "code",
      "source": [
        "precision_nb = TP_val_nb / (FP_val_nb + TP_val_nb)\n",
        "recall_nb = TP_val_nb / (TP_val_nb + FN_val_nb)\n",
        "print(\"Precision val: \", precision_nb)\n",
        "print(\"Recall val: \", recall_nb)"
      ],
      "metadata": {
        "colab": {
          "base_uri": "https://localhost:8080/"
        },
        "id": "GZXLYPHeACdk",
        "outputId": "6f6e4aa8-40c7-4271-f1ba-16ca4635ccc8"
      },
      "execution_count": null,
      "outputs": [
        {
          "output_type": "stream",
          "name": "stdout",
          "text": [
            "Precision val:  0.1339366515837104\n",
            "Recall val:  0.9932885906040269\n"
          ]
        }
      ]
    },
    {
      "cell_type": "markdown",
      "source": [
        "Обучение и тестирование (метод опорных в-в)"
      ],
      "metadata": {
        "id": "J-YyFrHeOHv9"
      }
    },
    {
      "cell_type": "code",
      "source": [
        "svm_clf = svm.SVC()\n",
        "svm_clf.fit(X_train, Y_train)\n",
        "svm_predict = svm_clf.predict(X_test)\n",
        "svm_matrix = confusion_matrix(Y_test, svm_predict)"
      ],
      "metadata": {
        "id": "XoFY1VMwOP-9"
      },
      "execution_count": null,
      "outputs": []
    },
    {
      "cell_type": "code",
      "source": [
        "svm_matrix"
      ],
      "metadata": {
        "colab": {
          "base_uri": "https://localhost:8080/"
        },
        "id": "MaC6dnsCOqps",
        "outputId": "05cfa9dd-0aad-431c-fe06-7b4952f1437e"
      },
      "execution_count": null,
      "outputs": [
        {
          "output_type": "execute_result",
          "data": {
            "text/plain": [
              "array([[903,  63],\n",
              "       [ 61,  88]])"
            ]
          },
          "metadata": {},
          "execution_count": 29
        }
      ]
    },
    {
      "cell_type": "code",
      "source": [
        "TP_val_svm = TP(Y_test, svm_predict)\n",
        "FP_val_svm = FP(Y_test, svm_predict)\n",
        "FN_val_svm = FN(Y_test, svm_predict)"
      ],
      "metadata": {
        "id": "z0WLWX8yOs5V"
      },
      "execution_count": null,
      "outputs": []
    },
    {
      "cell_type": "code",
      "source": [
        "precision_svm = TP_val_svm / (FP_val_svm + TP_val_svm)\n",
        "recall_svm = TP_val_svm / (TP_val_svm + FN_val_svm)\n",
        "print(\"Precision val: \", precision_svm)\n",
        "print(\"Recall val: \", recall_svm)"
      ],
      "metadata": {
        "colab": {
          "base_uri": "https://localhost:8080/"
        },
        "id": "DAdyf8YcO_lv",
        "outputId": "05915c83-68a3-4d40-ad2c-205f83ff6ebb"
      },
      "execution_count": null,
      "outputs": [
        {
          "output_type": "stream",
          "name": "stdout",
          "text": [
            "Precision val:  0.5827814569536424\n",
            "Recall val:  0.5906040268456376\n"
          ]
        }
      ]
    }
  ]
}