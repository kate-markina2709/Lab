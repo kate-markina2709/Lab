{
  "nbformat": 4,
  "nbformat_minor": 0,
  "metadata": {
    "colab": {
      "provenance": [],
      "authorship_tag": "ABX9TyPIXe0kzyU6pg5Ym1bUdAc8",
      "include_colab_link": true
    },
    "kernelspec": {
      "name": "python3",
      "display_name": "Python 3"
    },
    "language_info": {
      "name": "python"
    }
  },
  "cells": [
    {
      "cell_type": "markdown",
      "metadata": {
        "id": "view-in-github",
        "colab_type": "text"
      },
      "source": [
        "<a href=\"https://colab.research.google.com/github/kate-markina2709/Lab/blob/main/ML_1.ipynb\" target=\"_parent\"><img src=\"https://colab.research.google.com/assets/colab-badge.svg\" alt=\"Open In Colab\"/></a>"
      ]
    },
    {
      "cell_type": "code",
      "execution_count": null,
      "metadata": {
        "id": "8qEkpf6Qlg8D"
      },
      "outputs": [],
      "source": [
        "import re\n",
        "import numpy as np\n",
        "import pandas as pd\n"
      ]
    },
    {
      "cell_type": "code",
      "source": [
        "def extract_data_from_string(string):\n",
        "    return string.split(\";\")\n"
      ],
      "metadata": {
        "id": "G4ZaqI7Flq6t"
      },
      "execution_count": null,
      "outputs": []
    },
    {
      "cell_type": "code",
      "source": [
        "def build_transition_matrix(data):\n",
        "    matrix = np.full((66, 66), 1.0)\n",
        "\n",
        "    for i in range(len(data) - 1):\n",
        "        matrix[int(data[i]), int(data[i + 1])] += 1\n",
        "\n",
        "    for i in range(66):\n",
        "        matrix[i] = matrix[i] / matrix[i].sum()\n",
        "\n",
        "    return matrix"
      ],
      "metadata": {
        "id": "v3haKYeBlunt"
      },
      "execution_count": null,
      "outputs": []
    },
    {
      "cell_type": "code",
      "source": [
        "def calc_prob_window(seq, transition_matrix):\n",
        "    prob = 1\n",
        "    for i in range(len(seq) - 1):\n",
        "        prob *= transition_matrix[int(seq[i]), int(seq[i + 1])]\n",
        "\n",
        "    return prob"
      ],
      "metadata": {
        "id": "vwI2kLfalx1y"
      },
      "execution_count": null,
      "outputs": []
    },
    {
      "cell_type": "code",
      "source": [
        "def calc_threshhold(data, transition_matrix, window):\n",
        "    prob_list = []\n",
        "\n",
        "    if len(data) > window:\n",
        "        for i in range(len(data) - window):\n",
        "            window_data = data[i : i + window + 1]\n",
        "            prob = calc_prob_window(window_data, transition_matrix)\n",
        "            prob_list.append(prob)\n",
        "    else:\n",
        "        prob_list.append(calc_prob_window(data, transition_matrix))\n",
        "\n",
        "    prob_array = np.array(prob_list)\n",
        "\n",
        "    return prob_array.min()"
      ],
      "metadata": {
        "id": "qVC7Pe8ll0Fl"
      },
      "execution_count": null,
      "outputs": []
    },
    {
      "cell_type": "code",
      "source": [
        "def check_on_anomalies(data, transition_matrix, thresh):\n",
        "    prob = calc_prob_window(data, transition_matrix)\n",
        "    return prob < thresh"
      ],
      "metadata": {
        "id": "51E76m-_mSTn"
      },
      "execution_count": null,
      "outputs": []
    },
    {
      "cell_type": "code",
      "source": [
        "data = pd.read_csv(\"data.txt\", sep=\":\", header=None, index_col=0, names=[\"User\", \"Data\"])\n",
        "data_true = pd.read_csv(\"data_true.txt\", sep=\":\", header=None, index_col=0, names=[\"User\", \"Data\"])\n",
        "data_fake = pd.read_csv(\"data_fake.txt\", sep=\":\", header=None, index_col=0, names=[\"User\", \"Data\"])\n",
        "print(data)\n",
        "predictions_of_true = []\n",
        "predictions_of_fake = []\n",
        "window = 10\n",
        "\n",
        "for i, row in data.iterrows():\n",
        "    user_data = extract_data_from_string(row.Data)\n",
        "    true_user_data = extract_data_from_string(data_true.Data[i])\n",
        "    fake_user_data = extract_data_from_string(data_fake.Data[i])\n",
        "    transition_matrix = build_transition_matrix(user_data)\n",
        "    thresh = calc_threshhold(user_data, transition_matrix, window)\n",
        "\n",
        "    predictions_of_true.append(\n",
        "        check_on_anomalies(true_user_data, transition_matrix, thresh))\n",
        "\n",
        "    predictions_of_fake.append(\n",
        "        check_on_anomalies(fake_user_data, transition_matrix, thresh))\n",
        "\n",
        "print(\n",
        "    \"Процент ложных срабатываний: \", sum(predictions_of_true) / len(predictions_of_true)\n",
        ")\n",
        "print(\n",
        "    \"Процент пропущенных выбросов: \",\n",
        "    (len(predictions_of_fake) - sum(predictions_of_fake)) / len(predictions_of_fake),\n",
        ")"
      ],
      "metadata": {
        "colab": {
          "base_uri": "https://localhost:8080/"
        },
        "id": "xGU76qgEmXV7",
        "outputId": "a3bede75-ea89-4e03-8e39-6fc7007e7173"
      },
      "execution_count": null,
      "outputs": [
        {
          "output_type": "stream",
          "name": "stdout",
          "text": [
            "                                                      Data\n",
            "User                                                      \n",
            "user1    41;41;41;41;41;41;41;41;41;41;41;41;41;41;41;4...\n",
            "user2    55;55;55;55;55;28;28;28;28;28;56;56;56;56;28;2...\n",
            "user3    41;41;41;41;41;41;41;41;41;41;41;41;41;41;41;4...\n",
            "user4    15;15;15;15;15;15;15;15;15;15;15;15;15;15;15;1...\n",
            "user5    35;35;35;35;35;35;35;35;35;35;35;35;35;35;35;3...\n",
            "...                                                    ...\n",
            "user196  45;43;43;45;45;43;45;43;45;45;45;43;43;45;45;4...\n",
            "user197  43;45;43;45;45;43;45;43;45;43;45;45;45;45;45;4...\n",
            "user198  45;43;43;45;45;45;45;43;45;43;43;45;45;45;45;4...\n",
            "user199  0;0;0;0;0;0;0;0;0;0;0;3;3;3;0;0;3;0;0;0;0;0;3;...\n",
            "user200  65;65;65;65;65;65;65;65;65;65;65;65;65;65;65;6...\n",
            "\n",
            "[200 rows x 1 columns]\n",
            "Процент ложных срабатываний:  0.01\n",
            "Процент пропущенных выбросов:  0.225\n"
          ]
        }
      ]
    }
  ]
}